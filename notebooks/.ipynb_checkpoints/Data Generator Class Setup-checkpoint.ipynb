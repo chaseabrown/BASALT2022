{
 "cells": [
  {
   "cell_type": "code",
   "execution_count": 49,
   "id": "cb08d32a",
   "metadata": {},
   "outputs": [],
   "source": [
    "import os\n",
    "import cv2\n",
    "import json\n",
    "import numpy as np\n",
    "from IPython.display import Image\n",
    "import PIL\n",
    "import pandas as pd\n",
    "from tqdm import tqdm\n",
    "from random import randint, shuffle\n",
    "import random\n",
    "import sys\n",
    "import keras"
   ]
  },
  {
   "cell_type": "code",
   "execution_count": 53,
   "id": "e8e70565",
   "metadata": {},
   "outputs": [],
   "source": [
    "def gatherData(dataPathList, framesViewed):\n",
    "    folders = []\n",
    "    images = []\n",
    "    labels = {\"attack\": [], \n",
    "               \"forward\": [], \n",
    "               \"back\": [], \n",
    "               \"left\": [], \n",
    "               \"right\": [], \n",
    "               \"jump\": [], \n",
    "               \"sneak\": [], \n",
    "               \"sprint\": [], \n",
    "               \"use\": [], \n",
    "               \"drop\": [], \n",
    "               \"inventory\": [], \n",
    "               \"hotbar\": [], \n",
    "               \"camera1\": [], \n",
    "               \"camera2\": []}\n",
    "    \n",
    "    for dataPath in dataPathList:\n",
    "        for folder in os.listdir(dataPath):\n",
    "            folders.append(dataPath + folder)\n",
    "            if not \".DS_Store\" in folder:\n",
    "                newMoves = pd.read_csv(dataPath + folder + \"/moves.csv\")\n",
    "                for index, move in newMoves.iterrows():\n",
    "                    framesToInclude = []\n",
    "                    for i in range(0, framesViewed):\n",
    "                        framesToInclude.append(dataPath + folder + \"/\" + str(int(move[\"startImage\"] + i)) + \".jpg\")\n",
    "                    images.append(framesToInclude)\n",
    "                    labels[\"attack\"].append(move[\"attack\"])\n",
    "                    labels[\"forward\"].append(move[\"forward\"])\n",
    "                    labels[\"back\"].append(move[\"back\"])\n",
    "                    labels[\"left\"].append(move[\"left\"])\n",
    "                    labels[\"right\"].append(move[\"right\"])\n",
    "                    labels[\"jump\"].append(move[\"jump\"])\n",
    "                    labels[\"sneak\"].append(move[\"sneak\"])\n",
    "                    labels[\"sprint\"].append(move[\"sprint\"])\n",
    "                    labels[\"use\"].append(move[\"use\"])\n",
    "                    labels[\"drop\"].append(move[\"drop\"])\n",
    "                    labels[\"inventory\"].append(move[\"inventory\"])\n",
    "                    labels[\"hotbar\"].append(move[\"hotbar\"])\n",
    "                    labels[\"camera1\"].append(move[\"camera1\"])\n",
    "                    labels[\"camera2\"].append(move[\"camera2\"])\n",
    "                    \n",
    "    return images, labels"
   ]
  },
  {
   "cell_type": "code",
   "execution_count": 54,
   "id": "aca7c2e1",
   "metadata": {},
   "outputs": [],
   "source": [
    "class Generator(keras.utils.Sequence):\n",
    "    \n",
    "    def __init__(self, images, labels,\n",
    "                 batch_size,\n",
    "                 input_size=(640, 360, 3),\n",
    "                 shuffle=True):\n",
    "\n",
    "        self.images = images\n",
    "        self.labels = labels\n",
    "        self.batch_size = batch_size\n",
    "        self.input_size = input_size\n",
    "        self.shuffle = shuffle\n",
    "        \n",
    "        self.n = len(self.labels)\n",
    "\n",
    "        \n",
    "    def __get_input(self, path):\n",
    "\n",
    "        image= np.array(PIL.Image.open(path))\n",
    "        image = image.astype('float32')\n",
    "\n",
    "        return image/255.\n",
    "    \n",
    "    def on_epoch_end(self):\n",
    "        if self.shuffle:\n",
    "            temp = list(zip(self.images, self.labels))\n",
    "            random.shuffle(temp)\n",
    "            res1, res2 = zip(*temp)\n",
    "            # res1 and res2 come out as tuples, and so must be converted to lists.\n",
    "            self.images, self.labels = list(res1), list(res2)\n",
    "    \n",
    "    def __getitem__(self, index):\n",
    "\n",
    "        imageBatch = self.images[index * self.batch_size:(index + 1) * self.batch_size]\n",
    "        labelBatch = self.labels[index * self.batch_size:(index + 1) * self.batch_size]\n",
    "        X, y = self.__get_data(imageBatch, labelBatch)        \n",
    "        return X, y\n",
    "    \n",
    "    def test_getitem(self, index):\n",
    "        return self.__getitem__(index)\n",
    "    \n",
    "    def __len__(self):\n",
    "        return self.n // self.batch_size\n",
    "    \n",
    "    def __get_output(self, startImages, endImages, labelBatch):\n",
    "        \n",
    "        X1 = np.array(startImages, np.float32)\n",
    "        X2 = np.array(endImages, np.float32)\n",
    "\n",
    "        Y = np.array(list(map(int,labelBatch)), np.int64)\n",
    "        \n",
    "        return X1, X2, Y\n",
    "\n",
    "    def __get_data(self, imageBatch, labelBatch):\n",
    "        # Generates data containing batch_size samples\n",
    "        \n",
    "        startImages = []\n",
    "        endImages = []\n",
    "        for imagePaths in imageBatch:\n",
    "            startImages.append(self.__get_input(imagePaths[0]))\n",
    "            endImages.append(self.__get_input(imagePaths[1]))\n",
    "        \n",
    "        X1, X2, Y = self.__get_output(startImages, endImages, labelBatch)\n",
    "\n",
    "        return tuple([X1, X2]), Y"
   ]
  },
  {
   "cell_type": "code",
   "execution_count": 70,
   "id": "1f3ad5f2",
   "metadata": {},
   "outputs": [],
   "source": [
    "DATAPATHS = [\"../assets/datasets/Move Classifier Data/MineRLBasaltFindCave-v0/\", \n",
    "                            \"../assets/datasets/Move Classifier Data/MineRLBasaltBuildVillageHouse-v0/\", \n",
    "                            \"../assets/datasets/Move Classifier Data/MineRLBasaltCreateVillageAnimalPen-v0/\", \n",
    "                            \"../assets/datasets/Move Classifier Data/MineRLBasaltMakeWaterfall-v0/\"]\n",
    "images, labels = gatherData(DATAPATHS, 2)\n",
    "temp = list(zip(images, labels[\"attack\"]))\n",
    "random.shuffle(temp)\n",
    "res1, res2 = zip(*temp)\n",
    "# res1 and res2 come out as tuples, and so must be converted to lists.\n",
    "images, labels = list(res1), list(res2)\n",
    "\n",
    "X_train = images[:int(len(images) * 0.8)]\n",
    "Y_train = labels[:int(len(labels) * 0.8)]\n",
    "X_val = images[int(len(images) * 0.8):]\n",
    "Y_val = labels[int(len(labels) * 0.8):]\n",
    "\n",
    "generator = Generator(X_train, Y_train, batch_size=16)\n",
    "val_generator = Generator(X_val, Y_val, batch_size=16)"
   ]
  },
  {
   "cell_type": "code",
   "execution_count": null,
   "id": "21d874b3",
   "metadata": {},
   "outputs": [],
   "source": []
  },
  {
   "cell_type": "code",
   "execution_count": 71,
   "id": "b716e89c",
   "metadata": {},
   "outputs": [],
   "source": [
    "X, Y = generator.test_getitem(1)"
   ]
  },
  {
   "cell_type": "code",
   "execution_count": 72,
   "id": "27e3202c",
   "metadata": {},
   "outputs": [
    {
     "name": "stdout",
     "output_type": "stream",
     "text": [
      "2\n"
     ]
    }
   ],
   "source": [
    "print(len(X))"
   ]
  },
  {
   "cell_type": "code",
   "execution_count": 73,
   "id": "3b357d10",
   "metadata": {},
   "outputs": [
    {
     "name": "stdout",
     "output_type": "stream",
     "text": [
      "16\n"
     ]
    }
   ],
   "source": [
    "print(len(X[0]))"
   ]
  },
  {
   "cell_type": "code",
   "execution_count": 74,
   "id": "0f261541",
   "metadata": {},
   "outputs": [
    {
     "name": "stdout",
     "output_type": "stream",
     "text": [
      "16\n"
     ]
    }
   ],
   "source": [
    "print(len(Y))"
   ]
  },
  {
   "cell_type": "code",
   "execution_count": 91,
   "id": "895a1132",
   "metadata": {},
   "outputs": [
    {
     "name": "stdout",
     "output_type": "stream",
     "text": [
      "<class 'tuple'> <class 'numpy.ndarray'> (16, 360, 640, 3) <class 'numpy.float32'>\n",
      "<class 'tuple'> <class 'numpy.ndarray'> (16, 360, 640, 3) <class 'numpy.float32'>\n"
     ]
    }
   ],
   "source": [
    "print(type(X), type(X[0]), X[0].shape, type(X[0][0][0][0][0]))\n",
    "print(type(X), type(X[1]), X[1].shape, type(X[1][0][0][0][0]))"
   ]
  },
  {
   "cell_type": "code",
   "execution_count": 86,
   "id": "2ec54187",
   "metadata": {},
   "outputs": [
    {
     "name": "stdout",
     "output_type": "stream",
     "text": [
      "<class 'numpy.ndarray'> (16,) <class 'numpy.int64'>\n"
     ]
    }
   ],
   "source": [
    "print(type(Y), Y.shape, type(Y[0]))"
   ]
  },
  {
   "cell_type": "code",
   "execution_count": null,
   "id": "f2f91d04",
   "metadata": {},
   "outputs": [],
   "source": []
  }
 ],
 "metadata": {
  "kernelspec": {
   "display_name": "Python 3",
   "language": "python",
   "name": "python3"
  },
  "language_info": {
   "codemirror_mode": {
    "name": "ipython",
    "version": 3
   },
   "file_extension": ".py",
   "mimetype": "text/x-python",
   "name": "python",
   "nbconvert_exporter": "python",
   "pygments_lexer": "ipython3",
   "version": "3.9.12"
  }
 },
 "nbformat": 4,
 "nbformat_minor": 5
}
