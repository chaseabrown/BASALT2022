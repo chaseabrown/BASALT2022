{
 "cells": [
  {
   "cell_type": "code",
   "execution_count": 1,
   "id": "aad44fd0",
   "metadata": {},
   "outputs": [],
   "source": [
    "import sys\n",
    "import os\n",
    "import pandas as pd\n",
    "import random\n",
    "import matplotlib.pyplot as plt\n",
    "from argparse import ArgumentParser\n",
    "#stderr = sys.stderr\n",
    "#sys.stderr = open(os.devnull, 'w')\n",
    "\n",
    "os.environ[\"KERAS_BACKEND\"] = \"plaidml.keras.backend\"\n",
    "os.environ[\"PLAIDML_EXPERIMENTAL\"] = \"1\"\n",
    "os.environ[\"PLAIDML_DEVICE_IDS\"] = \"metal_amd_radeon_rx_5700_xt.0\"\n",
    "import keras\n",
    "from keras.callbacks import ModelCheckpoint\n",
    "#sys.stderr = stderr\n",
    "\n",
    "sys.path.append('../models')\n",
    "from MoveClassifier import MoveClassifier\n",
    "sys.path.append('../helpers')\n",
    "from Generators import Generator2Images, Generator1Image"
   ]
  },
  {
   "cell_type": "code",
   "execution_count": 2,
   "id": "63929f42",
   "metadata": {},
   "outputs": [],
   "source": [
    "def gatherData(dataPathList, framesViewed, FEATURE, BALANCED):\n",
    "    folders = []\n",
    "    images = []\n",
    "    labels = []\n",
    "    \n",
    "    for dataPath in dataPathList:\n",
    "        for folder in os.listdir(dataPath):\n",
    "            folders.append(dataPath + folder)\n",
    "            if not \".DS_Store\" in folder:\n",
    "                newMoves = pd.read_csv(dataPath + folder + \"/moves.csv\")\n",
    "                if BALANCED:\n",
    "                    positives = newMoves[newMoves[FEATURE] == 1]\n",
    "                    negatives = newMoves[newMoves[FEATURE] == 0]\n",
    "                    if len(positives) > len(negatives):\n",
    "                        newMoves = pd.concat([negatives, positives[:len(negatives)]], ignore_index=True)\n",
    "                    else:\n",
    "                        newMoves = pd.concat([positives, negatives[:len(positives)]], ignore_index=True)\n",
    "\n",
    "                balanced = newMoves.sample(frac=1, random_state=42)\n",
    "                for index, move in newMoves.iterrows():\n",
    "\n",
    "                    framesToInclude = []\n",
    "                    end = False\n",
    "                    for i in range(0, framesViewed):\n",
    "                        if not os.path.exists(dataPath + folder + \"/\" + str(int(move[\"startImage\"] + i)) + \".jpg\"):\n",
    "                            end = True\n",
    "                        framesToInclude.append(dataPath + folder + \"/\" + str(int(move[\"startImage\"] + i)) + \".jpg\")\n",
    "                    if not end:\n",
    "                        images.append(framesToInclude)\n",
    "                        labels.append(move[FEATURE])\n",
    "\n",
    "    print(\"# of Actions:\", len(labels))\n",
    "    return images, labels"
   ]
  },
  {
   "cell_type": "code",
   "execution_count": 3,
   "id": "6bf6632a",
   "metadata": {},
   "outputs": [],
   "source": [
    "DATAPATHS = [\"../assets/datasets/Move Classifier Data/MineRLBasaltFindCave-v0/\", \n",
    "                        \"../assets/datasets/Move Classifier Data/MineRLBasaltBuildVillageHouse-v0/\", \n",
    "                        \"../assets/datasets/Move Classifier Data/MineRLBasaltCreateVillageAnimalPen-v0/\", \n",
    "                        \"../assets/datasets/Move Classifier Data/MineRLBasaltMakeWaterfall-v0/\"]\n",
    "\n",
    "FEATURE = \"inventory\"\n",
    "BATCHSIZE = 64\n",
    "EPOCHS = 1\n",
    "BALANCED = 1\n",
    "SHRINK = 1\n",
    "\n",
    "INPUTSHAPE = (640, 360, 3)\n",
    "if SHRINK == 1:\n",
    "    INPUTSHAPE = (320, 180, 3)"
   ]
  },
  {
   "cell_type": "code",
   "execution_count": 4,
   "id": "d876b9bb",
   "metadata": {},
   "outputs": [
    {
     "name": "stdout",
     "output_type": "stream",
     "text": [
      "Loading Training Data...\n",
      "# of Actions: 7276\n",
      "Building inventory Model...\n",
      "Model: \"model_1\"\n",
      "_________________________________________________________________\n",
      " Layer (type)                Output Shape              Param #   \n",
      "=================================================================\n",
      " input_1 (InputLayer)        [(None, 180, 320, 3)]     0         \n",
      "                                                                 \n",
      " conv2d (Conv2D)             (None, 180, 320, 16)      448       \n",
      "                                                                 \n",
      " activation (Activation)     (None, 180, 320, 16)      0         \n",
      "                                                                 \n",
      " batch_normalization (BatchN  (None, 180, 320, 16)     64        \n",
      " ormalization)                                                   \n",
      "                                                                 \n",
      " max_pooling2d (MaxPooling2D  (None, 90, 160, 16)      0         \n",
      " )                                                               \n",
      "                                                                 \n",
      " flatten (Flatten)           (None, 230400)            0         \n",
      "                                                                 \n",
      " dense (Dense)               (None, 16)                3686416   \n",
      "                                                                 \n",
      " activation_1 (Activation)   (None, 16)                0         \n",
      "                                                                 \n",
      " batch_normalization_1 (Batc  (None, 16)               64        \n",
      " hNormalization)                                                 \n",
      "                                                                 \n",
      " dropout (Dropout)           (None, 16)                0         \n",
      "                                                                 \n",
      " dense_1 (Dense)             (None, 4)                 68        \n",
      "                                                                 \n",
      " activation_2 (Activation)   (None, 4)                 0         \n",
      "                                                                 \n",
      " dense_2 (Dense)             (None, 4)                 20        \n",
      "                                                                 \n",
      " dense_3 (Dense)             (None, 1)                 5         \n",
      "                                                                 \n",
      "=================================================================\n",
      "Total params: 3,687,085\n",
      "Trainable params: 3,687,021\n",
      "Non-trainable params: 64\n",
      "_________________________________________________________________\n"
     ]
    },
    {
     "name": "stderr",
     "output_type": "stream",
     "text": [
      "2022-07-23 22:08:59.386678: I tensorflow/core/platform/cpu_feature_guard.cc:193] This TensorFlow binary is optimized with oneAPI Deep Neural Network Library (oneDNN) to use the following CPU instructions in performance-critical operations:  AVX2 FMA\n",
      "To enable them in other operations, rebuild TensorFlow with the appropriate compiler flags.\n",
      "/Users/chasebrown/opt/anaconda3/lib/python3.9/site-packages/keras/optimizers/optimizer_v2/adam.py:110: UserWarning: The `lr` argument is deprecated, use `learning_rate` instead.\n",
      "  super(Adam, self).__init__(name, **kwargs)\n"
     ]
    }
   ],
   "source": [
    "print(\"Loading Training Data...\")\n",
    "if FEATURE in [\"attack\", \"forward\", \"backward\", \"left\", \"right\", \"jump\", \"sneak\", \"sprint\", \"use\", \"drop\"]:\n",
    "    images, labels = gatherData(DATAPATHS, 2, FEATURE, BALANCED)\n",
    "\n",
    "    temp = list(zip(images, labels))\n",
    "    random.shuffle(temp)\n",
    "    res1, res2 = zip(*temp)\n",
    "    # res1 and res2 come out as tuples, and so must be converted to lists.\n",
    "    images, labels = list(res1), list(res2)\n",
    "\n",
    "    X_train = images[:int(len(images) * 0.8)]\n",
    "    Y_train = labels[:int(len(labels) * 0.8)]\n",
    "    X_val = images[int(len(images) * 0.8):]\n",
    "    Y_val = labels[int(len(labels) * 0.8):]\n",
    "\n",
    "\n",
    "    generator = Generator2Images(X_train, Y_train, batch_size=BATCHSIZE, inputShape=INPUTSHAPE)\n",
    "    val_generator = Generator2Images(X_val, Y_val, batch_size=BATCHSIZE, inputShape=INPUTSHAPE)\n",
    "\n",
    "    MC = MoveClassifier(INPUTSHAPE)\n",
    "\n",
    "    print(\"Building \" + FEATURE + \" Model...\")\n",
    "    model = MC.build_model_2Images(regress=False)\n",
    "else:\n",
    "    images, labels = gatherData(DATAPATHS, 1, FEATURE, BALANCED)\n",
    "\n",
    "    temp = list(zip(images, labels))\n",
    "    random.shuffle(temp)\n",
    "    res1, res2 = zip(*temp)\n",
    "    # res1 and res2 come out as tuples, and so must be converted to lists.\n",
    "    images, labels = list(res1), list(res2)\n",
    "\n",
    "    X_train = images[:int(len(images) * 0.1)]\n",
    "    Y_train = labels[:int(len(labels) * 0.1)]\n",
    "    X_val = images[int(len(images) * 0.05):]\n",
    "    Y_val = labels[int(len(labels) * 0.05):]\n",
    "\n",
    "\n",
    "    generator = Generator1Image(X_train, Y_train, batch_size=BATCHSIZE, inputShape=INPUTSHAPE)\n",
    "    val_generator = Generator1Image(X_val, Y_val, batch_size=BATCHSIZE, inputShape=INPUTSHAPE)\n",
    "\n",
    "    MC = MoveClassifier(INPUTSHAPE)\n",
    "\n",
    "    print(\"Building \" + FEATURE + \" Model...\")\n",
    "    model = MC.build_model_1Image(regress=False)"
   ]
  },
  {
   "cell_type": "code",
   "execution_count": 5,
   "id": "b4f04b49",
   "metadata": {},
   "outputs": [
    {
     "name": "stdout",
     "output_type": "stream",
     "text": [
      "Training inventory Model...\n",
      "WARNING:tensorflow:`period` argument is deprecated. Please use `save_freq` to specify the frequency in number of batches seen.\n"
     ]
    },
    {
     "name": "stderr",
     "output_type": "stream",
     "text": [
      "/var/folders/1v/pkj_pxz51qv0_y_c9mkb0dzh0000gn/T/ipykernel_33260/3007631959.py:9: UserWarning: `Model.fit_generator` is deprecated and will be removed in a future version. Please use `Model.fit`, which supports generators.\n",
      "  history = model.fit_generator(generator=generator,\n"
     ]
    },
    {
     "name": "stdout",
     "output_type": "stream",
     "text": [
      "11/11 [==============================] - 87s 8s/step - loss: 1660190.7500 - val_loss: 213003.7344\n"
     ]
    }
   ],
   "source": [
    "print(\"Training \" + FEATURE + \" Model...\")\n",
    "checkpoint_path = \"../weights/Move Classifier/\" + FEATURE + \"-BAL\" + str(BALANCED) + \"-BS\" + str(BATCHSIZE) + \"-IW\" + str(INPUTSHAPE[0])+ \"-IH\" + str(INPUTSHAPE[0]) + \"/\"\n",
    "if not os.path.exists(checkpoint_path):\n",
    "        os.makedirs(checkpoint_path)\n",
    "checkpoint_path += \"cp-{epoch:04d}.tf\"\n",
    "model_checkpoint = ModelCheckpoint(filepath=checkpoint_path,\n",
    "                                             save_weights_only=True,\n",
    "                                             verbose=1, period=5)\n",
    "history = model.fit_generator(generator=generator,\n",
    "            validation_data=val_generator,\n",
    "            use_multiprocessing=True,\n",
    "            #callbacks = [model_checkpoint],\n",
    "            workers=6,\n",
    "            epochs=EPOCHS)"
   ]
  },
  {
   "cell_type": "code",
   "execution_count": 6,
   "id": "97abb9e9",
   "metadata": {},
   "outputs": [
    {
     "data": {
      "image/png": "[encoded data removed]",
      "text/plain": [
       "<Figure size 432x288 with 1 Axes>"
      ]
     },
     "metadata": {
      "needs_background": "light"
     },
     "output_type": "display_data"
    }
   ],
   "source": [
    "# summarize history for loss\n",
    "plt.plot(history.history['loss'])\n",
    "plt.plot(history.history['val_loss'])\n",
    "plt.title('model loss')\n",
    "plt.ylabel('loss')\n",
    "plt.xlabel('epoch')\n",
    "plt.legend(['train', 'val'], loc='upper left')\n",
    "plt.savefig(\"../weights/Move Classifier/\" + FEATURE + \"-BAL\" + str(BALANCED) + \"-BS\" + str(BATCHSIZE) + \"-IW\" + str(INPUTSHAPE[0])+ \"-IH\" + str(INPUTSHAPE[0]) + \"/loss.png\")"
   ]
  },
  {
   "cell_type": "code",
   "execution_count": null,
   "id": "167e68d1",
   "metadata": {},
   "outputs": [],
   "source": []
  }
 ],
 "metadata": {
  "kernelspec": {
   "display_name": "BASALT2022",
   "language": "python",
   "name": "basalt2022"
  },
  "language_info": {
   "codemirror_mode": {
    "name": "ipython",
    "version": 3
   },
   "file_extension": ".py",
   "mimetype": "text/x-python",
   "name": "python",
   "nbconvert_exporter": "python",
   "pygments_lexer": "ipython3",
   "version": "3.9.12"
  }
 },
 "nbformat": 4,
 "nbformat_minor": 5
}
