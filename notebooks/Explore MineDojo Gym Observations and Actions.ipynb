{
 "cells": [
  {
   "cell_type": "markdown",
   "id": "f510ade3",
   "metadata": {},
   "source": [
    "# BASALT 2022 Inventory Item Classifier\n",
    "\n",
    "## Background\n",
    "I am working on potential solutions for https://www.aicrowd.com/challenges/neurips-2022-minerl-basalt-competition. A notebook visualization of a the MineDojo Gym Environment's Observation and Action set.\n",
    "\n",
    "\n",
    "## Code\n",
    "\n",
    "### Imports"
   ]
  },
  {
   "cell_type": "code",
   "execution_count": 26,
   "id": "011e076f",
   "metadata": {},
   "outputs": [],
   "source": [
    "import minedojo\n",
    "from random import randint\n",
    "import numpy as np\n",
    "from PIL import Image"
   ]
  },
  {
   "cell_type": "code",
   "execution_count": 27,
   "id": "73902699",
   "metadata": {},
   "outputs": [],
   "source": [
    "def getPILImage(img):\n",
    "    img = img.transpose(1, 2, 0)\n",
    "    img = Image.fromarray(img)\n",
    "    return img"
   ]
  },
  {
   "cell_type": "code",
   "execution_count": 28,
   "id": "bb1e8790",
   "metadata": {},
   "outputs": [],
   "source": [
    "all_programmatic_ids = minedojo.tasks.ALL_PROGRAMMATIC_TASK_IDS\n",
    "imageSize = (360, 640)"
   ]
  },
  {
   "cell_type": "code",
   "execution_count": 47,
   "id": "faf2cf10",
   "metadata": {},
   "outputs": [
    {
     "data": {
      "text/plain": [
       "'combat a zombie in night extreme hills with a iron sword, shield, and a full suite of iron armors'"
      ]
     },
     "execution_count": 47,
     "metadata": {},
     "output_type": "execute_result"
    }
   ],
   "source": [
    "env = minedojo.make(task_id=all_programmatic_ids[randint(0, len(all_programmatic_ids))], image_size=imageSize)\n",
    "env.task_prompt"
   ]
  },
  {
   "cell_type": "code",
   "execution_count": 49,
   "id": "4a09f144",
   "metadata": {},
   "outputs": [
    {
     "name": "stdout",
     "output_type": "stream",
     "text": [
      "1. Find a zombie.\n",
      "2. Attack the zombie with a weapon.\n",
      "3. The zombie will die and you will be victorious!\n"
     ]
    }
   ],
   "source": [
    "guide = env.task_guidance.split(\"\\n\")\n",
    "for line in guide:\n",
    "    print(line)"
   ]
  },
  {
   "cell_type": "code",
   "execution_count": 56,
   "id": "57c3c991",
   "metadata": {},
   "outputs": [
    {
     "ename": "AttributeError",
     "evalue": "'NoneType' object has no attribute 'sendall'",
     "output_type": "error",
     "traceback": [
      "\u001b[0;31m---------------------------------------------------------------------------\u001b[0m",
      "\u001b[0;31mAttributeError\u001b[0m                            Traceback (most recent call last)",
      "Input \u001b[0;32mIn [56]\u001b[0m, in \u001b[0;36m<cell line: 2>\u001b[0;34m()\u001b[0m\n\u001b[1;32m      1\u001b[0m listOfObs \u001b[38;5;241m=\u001b[39m []\n\u001b[0;32m----> 2\u001b[0m obs \u001b[38;5;241m=\u001b[39m \u001b[43menv\u001b[49m\u001b[38;5;241;43m.\u001b[39;49m\u001b[43mreset\u001b[49m\u001b[43m(\u001b[49m\u001b[43m)\u001b[49m\n\u001b[1;32m      3\u001b[0m done \u001b[38;5;241m=\u001b[39m \u001b[38;5;28;01mFalse\u001b[39;00m\n\u001b[1;32m      4\u001b[0m counter \u001b[38;5;241m=\u001b[39m \u001b[38;5;241m1\u001b[39m\n",
      "File \u001b[0;32m~/opt/anaconda3/envs/minedojo/lib/python3.9/site-packages/gym/core.py:292\u001b[0m, in \u001b[0;36mWrapper.reset\u001b[0;34m(self, **kwargs)\u001b[0m\n\u001b[1;32m    291\u001b[0m \u001b[38;5;28;01mdef\u001b[39;00m \u001b[38;5;21mreset\u001b[39m(\u001b[38;5;28mself\u001b[39m, \u001b[38;5;241m*\u001b[39m\u001b[38;5;241m*\u001b[39mkwargs):\n\u001b[0;32m--> 292\u001b[0m     \u001b[38;5;28;01mreturn\u001b[39;00m \u001b[38;5;28;43mself\u001b[39;49m\u001b[38;5;241;43m.\u001b[39;49m\u001b[43menv\u001b[49m\u001b[38;5;241;43m.\u001b[39;49m\u001b[43mreset\u001b[49m\u001b[43m(\u001b[49m\u001b[38;5;241;43m*\u001b[39;49m\u001b[38;5;241;43m*\u001b[39;49m\u001b[43mkwargs\u001b[49m\u001b[43m)\u001b[49m\n",
      "File \u001b[0;32m~/opt/anaconda3/envs/minedojo/lib/python3.9/site-packages/minedojo/sim/wrappers/ar_nn/delta_inventory_wrapper.py:78\u001b[0m, in \u001b[0;36mDeltaInventoryWrapper.reset\u001b[0;34m(self, **kwargs)\u001b[0m\n\u001b[1;32m     77\u001b[0m \u001b[38;5;28;01mdef\u001b[39;00m \u001b[38;5;21mreset\u001b[39m(\u001b[38;5;28mself\u001b[39m, \u001b[38;5;241m*\u001b[39m\u001b[38;5;241m*\u001b[39mkwargs):\n\u001b[0;32m---> 78\u001b[0m     observation \u001b[38;5;241m=\u001b[39m \u001b[38;5;28;43mself\u001b[39;49m\u001b[38;5;241;43m.\u001b[39;49m\u001b[43menv\u001b[49m\u001b[38;5;241;43m.\u001b[39;49m\u001b[43mreset\u001b[49m\u001b[43m(\u001b[49m\u001b[38;5;241;43m*\u001b[39;49m\u001b[38;5;241;43m*\u001b[39;49m\u001b[43mkwargs\u001b[49m\u001b[43m)\u001b[49m\n\u001b[1;32m     79\u001b[0m     \u001b[38;5;28mself\u001b[39m\u001b[38;5;241m.\u001b[39m_prev_inventory \u001b[38;5;241m=\u001b[39m deepcopy(observation[\u001b[38;5;124m\"\u001b[39m\u001b[38;5;124minventory\u001b[39m\u001b[38;5;124m\"\u001b[39m])\n\u001b[1;32m     80\u001b[0m     \u001b[38;5;28mself\u001b[39m\u001b[38;5;241m.\u001b[39m_prev_mask \u001b[38;5;241m=\u001b[39m deepcopy(observation[\u001b[38;5;124m\"\u001b[39m\u001b[38;5;124mmasks\u001b[39m\u001b[38;5;124m\"\u001b[39m][\u001b[38;5;124m\"\u001b[39m\u001b[38;5;124mcraft_smelt\u001b[39m\u001b[38;5;124m\"\u001b[39m])\n",
      "File \u001b[0;32m~/opt/anaconda3/envs/minedojo/lib/python3.9/site-packages/gym/core.py:319\u001b[0m, in \u001b[0;36mObservationWrapper.reset\u001b[0;34m(self, **kwargs)\u001b[0m\n\u001b[1;32m    318\u001b[0m \u001b[38;5;28;01mdef\u001b[39;00m \u001b[38;5;21mreset\u001b[39m(\u001b[38;5;28mself\u001b[39m, \u001b[38;5;241m*\u001b[39m\u001b[38;5;241m*\u001b[39mkwargs):\n\u001b[0;32m--> 319\u001b[0m     observation \u001b[38;5;241m=\u001b[39m \u001b[38;5;28;43mself\u001b[39;49m\u001b[38;5;241;43m.\u001b[39;49m\u001b[43menv\u001b[49m\u001b[38;5;241;43m.\u001b[39;49m\u001b[43mreset\u001b[49m\u001b[43m(\u001b[49m\u001b[38;5;241;43m*\u001b[39;49m\u001b[38;5;241;43m*\u001b[39;49m\u001b[43mkwargs\u001b[49m\u001b[43m)\u001b[49m\n\u001b[1;32m    320\u001b[0m     \u001b[38;5;28;01mreturn\u001b[39;00m \u001b[38;5;28mself\u001b[39m\u001b[38;5;241m.\u001b[39mobservation(observation)\n",
      "File \u001b[0;32m~/opt/anaconda3/envs/minedojo/lib/python3.9/site-packages/minedojo/sim/wrappers/ar_nn/nn_action_space_wrapper.py:259\u001b[0m, in \u001b[0;36mNNActionSpaceWrapper.reset\u001b[0;34m(self, **kwargs)\u001b[0m\n\u001b[1;32m    258\u001b[0m \u001b[38;5;28;01mdef\u001b[39;00m \u001b[38;5;21mreset\u001b[39m(\u001b[38;5;28mself\u001b[39m, \u001b[38;5;241m*\u001b[39m\u001b[38;5;241m*\u001b[39mkwargs):\n\u001b[0;32m--> 259\u001b[0m     obs \u001b[38;5;241m=\u001b[39m \u001b[38;5;28;43mself\u001b[39;49m\u001b[38;5;241;43m.\u001b[39;49m\u001b[43menv\u001b[49m\u001b[38;5;241;43m.\u001b[39;49m\u001b[43mreset\u001b[49m\u001b[43m(\u001b[49m\u001b[38;5;241;43m*\u001b[39;49m\u001b[38;5;241;43m*\u001b[39;49m\u001b[43mkwargs\u001b[49m\u001b[43m)\u001b[49m\n\u001b[1;32m    260\u001b[0m     \u001b[38;5;28mself\u001b[39m\u001b[38;5;241m.\u001b[39m_inventory_names \u001b[38;5;241m=\u001b[39m obs[\u001b[38;5;124m\"\u001b[39m\u001b[38;5;124minventory\u001b[39m\u001b[38;5;124m\"\u001b[39m][\u001b[38;5;124m\"\u001b[39m\u001b[38;5;124mname\u001b[39m\u001b[38;5;124m\"\u001b[39m]\u001b[38;5;241m.\u001b[39mcopy()\n\u001b[1;32m    261\u001b[0m     \u001b[38;5;28;01mreturn\u001b[39;00m obs\n",
      "File \u001b[0;32m~/opt/anaconda3/envs/minedojo/lib/python3.9/site-packages/minedojo/tasks/meta/base.py:87\u001b[0m, in \u001b[0;36mMetaTaskBase.reset\u001b[0;34m(self)\u001b[0m\n\u001b[1;32m     81\u001b[0m \u001b[38;5;28;01mdef\u001b[39;00m \u001b[38;5;21mreset\u001b[39m(\u001b[38;5;28mself\u001b[39m):\n\u001b[1;32m     82\u001b[0m     \u001b[38;5;124;03m\"\"\"Resets the environment to an initial state and returns an initial observation.\u001b[39;00m\n\u001b[1;32m     83\u001b[0m \n\u001b[1;32m     84\u001b[0m \u001b[38;5;124;03m    Return:\u001b[39;00m\n\u001b[1;32m     85\u001b[0m \u001b[38;5;124;03m        Agent’s initial observation.\u001b[39;00m\n\u001b[1;32m     86\u001b[0m \u001b[38;5;124;03m    \"\"\"\u001b[39;00m\n\u001b[0;32m---> 87\u001b[0m     obs \u001b[38;5;241m=\u001b[39m \u001b[38;5;28;43mself\u001b[39;49m\u001b[38;5;241;43m.\u001b[39;49m\u001b[43menv\u001b[49m\u001b[38;5;241;43m.\u001b[39;49m\u001b[43mreset\u001b[49m\u001b[43m(\u001b[49m\u001b[43m)\u001b[49m\n\u001b[1;32m     88\u001b[0m     info \u001b[38;5;241m=\u001b[39m \u001b[38;5;28mself\u001b[39m\u001b[38;5;241m.\u001b[39menv\u001b[38;5;241m.\u001b[39mprev_info\n\u001b[1;32m     89\u001b[0m     obs, info \u001b[38;5;241m=\u001b[39m \u001b[38;5;28mself\u001b[39m\u001b[38;5;241m.\u001b[39m_after_sim_reset_hook(obs, info)\n",
      "File \u001b[0;32m~/opt/anaconda3/envs/minedojo/lib/python3.9/site-packages/minedojo/sim/wrappers/fast_reset.py:74\u001b[0m, in \u001b[0;36mFastResetWrapper.reset\u001b[0;34m(self)\u001b[0m\n\u001b[1;32m     72\u001b[0m \u001b[38;5;28;01melse\u001b[39;00m:\n\u001b[1;32m     73\u001b[0m     \u001b[38;5;28;01mfor\u001b[39;00m cmd \u001b[38;5;129;01min\u001b[39;00m \u001b[38;5;28mself\u001b[39m\u001b[38;5;241m.\u001b[39m_reset_cmds:\n\u001b[0;32m---> 74\u001b[0m         obs, _, _, info \u001b[38;5;241m=\u001b[39m \u001b[38;5;28;43mself\u001b[39;49m\u001b[38;5;241;43m.\u001b[39;49m\u001b[43menv\u001b[49m\u001b[38;5;241;43m.\u001b[39;49m\u001b[43mexecute_cmd\u001b[49m\u001b[43m(\u001b[49m\u001b[43mcmd\u001b[49m\u001b[43m)\u001b[49m\n\u001b[1;32m     75\u001b[0m     \u001b[38;5;28mself\u001b[39m\u001b[38;5;241m.\u001b[39m_info_prev_reset \u001b[38;5;241m=\u001b[39m \u001b[38;5;28mself\u001b[39m\u001b[38;5;241m.\u001b[39menv\u001b[38;5;241m.\u001b[39mprev_info\n\u001b[1;32m     76\u001b[0m     \u001b[38;5;28;01mreturn\u001b[39;00m obs\n",
      "File \u001b[0;32m~/opt/anaconda3/envs/minedojo/lib/python3.9/site-packages/minedojo/sim/sim.py:463\u001b[0m, in \u001b[0;36mMineDojoSim.execute_cmd\u001b[0;34m(self, cmd, action)\u001b[0m\n\u001b[1;32m    449\u001b[0m \u001b[38;5;28;01mdef\u001b[39;00m \u001b[38;5;21mexecute_cmd\u001b[39m(\u001b[38;5;28mself\u001b[39m, cmd: \u001b[38;5;28mstr\u001b[39m, action: Optional[\u001b[38;5;28mdict\u001b[39m] \u001b[38;5;241m=\u001b[39m \u001b[38;5;28;01mNone\u001b[39;00m):\n\u001b[1;32m    450\u001b[0m     \u001b[38;5;124;03m\"\"\"Execute a given string command.\u001b[39;00m\n\u001b[1;32m    451\u001b[0m \n\u001b[1;32m    452\u001b[0m \u001b[38;5;124;03m    Args:\u001b[39;00m\n\u001b[0;32m   (...)\u001b[0m\n\u001b[1;32m    461\u001b[0m \u001b[38;5;124;03m        - ``dict`` - Contains auxiliary diagnostic information (helpful for debugging, and sometimes learning).\u001b[39;00m\n\u001b[1;32m    462\u001b[0m \u001b[38;5;124;03m    \"\"\"\u001b[39;00m\n\u001b[0;32m--> 463\u001b[0m     \u001b[38;5;28;01mreturn\u001b[39;00m \u001b[38;5;28;43mself\u001b[39;49m\u001b[38;5;241;43m.\u001b[39;49m\u001b[43m_cmd_executor\u001b[49m\u001b[38;5;241;43m.\u001b[39;49m\u001b[43mexecute_cmd\u001b[49m\u001b[43m(\u001b[49m\u001b[43mcmd\u001b[49m\u001b[43m,\u001b[49m\u001b[43m \u001b[49m\u001b[43maction\u001b[49m\u001b[43m)\u001b[49m\n",
      "File \u001b[0;32m~/opt/anaconda3/envs/minedojo/lib/python3.9/site-packages/minedojo/sim/cmd_executor.py:56\u001b[0m, in \u001b[0;36mCMDExecutor.execute_cmd\u001b[0;34m(self, cmd, action)\u001b[0m\n\u001b[1;32m     54\u001b[0m action \u001b[38;5;241m=\u001b[39m action \u001b[38;5;129;01mor\u001b[39;00m \u001b[38;5;28mself\u001b[39m\u001b[38;5;241m.\u001b[39m_world\u001b[38;5;241m.\u001b[39maction_space\u001b[38;5;241m.\u001b[39mno_op()\n\u001b[1;32m     55\u001b[0m action[\u001b[38;5;124m\"\u001b[39m\u001b[38;5;124mchat\u001b[39m\u001b[38;5;124m\"\u001b[39m] \u001b[38;5;241m=\u001b[39m cmd\n\u001b[0;32m---> 56\u001b[0m \u001b[38;5;28;01mreturn\u001b[39;00m \u001b[38;5;28;43mself\u001b[39;49m\u001b[38;5;241;43m.\u001b[39;49m\u001b[43m_world\u001b[49m\u001b[38;5;241;43m.\u001b[39;49m\u001b[43mstep\u001b[49m\u001b[43m(\u001b[49m\u001b[43maction\u001b[49m\u001b[43m)\u001b[49m\n",
      "File \u001b[0;32m~/opt/anaconda3/envs/minedojo/lib/python3.9/site-packages/minedojo/sim/sim.py:439\u001b[0m, in \u001b[0;36mMineDojoSim.step\u001b[0;34m(self, action)\u001b[0m\n\u001b[1;32m    437\u001b[0m \u001b[38;5;28mself\u001b[39m\u001b[38;5;241m.\u001b[39m_prev_action \u001b[38;5;241m=\u001b[39m deepcopy(action)\n\u001b[1;32m    438\u001b[0m action_xml \u001b[38;5;241m=\u001b[39m \u001b[38;5;28mself\u001b[39m\u001b[38;5;241m.\u001b[39m_action_obj_to_xml(action)\n\u001b[0;32m--> 439\u001b[0m step_tuple \u001b[38;5;241m=\u001b[39m \u001b[38;5;28;43mself\u001b[39;49m\u001b[38;5;241;43m.\u001b[39;49m\u001b[43m_bridge_env\u001b[49m\u001b[38;5;241;43m.\u001b[39;49m\u001b[43mstep\u001b[49m\u001b[43m(\u001b[49m\u001b[43m[\u001b[49m\u001b[43maction_xml\u001b[49m\u001b[43m]\u001b[49m\u001b[43m)\u001b[49m\n\u001b[1;32m    440\u001b[0m step_success, raw_obs \u001b[38;5;241m=\u001b[39m step_tuple\u001b[38;5;241m.\u001b[39mstep_success, step_tuple\u001b[38;5;241m.\u001b[39mraw_obs\n\u001b[1;32m    441\u001b[0m \u001b[38;5;28;01mif\u001b[39;00m \u001b[38;5;129;01mnot\u001b[39;00m step_success:\n\u001b[1;32m    442\u001b[0m     \u001b[38;5;66;03m# when step failed, return prev obs\u001b[39;00m\n",
      "File \u001b[0;32m~/opt/anaconda3/envs/minedojo/lib/python3.9/site-packages/minedojo/sim/bridge/bridge_env/bridge_env.py:105\u001b[0m, in \u001b[0;36mBridgeEnv.step\u001b[0;34m(self, action_xmls)\u001b[0m\n\u001b[1;32m    103\u001b[0m step_message \u001b[38;5;241m=\u001b[39m \u001b[38;5;124mf\u001b[39m\u001b[38;5;124m\"\u001b[39m\u001b[38;5;124m<StepClient\u001b[39m\u001b[38;5;132;01m{\u001b[39;00m\u001b[38;5;28mstr\u001b[39m(\u001b[38;5;28mself\u001b[39m\u001b[38;5;241m.\u001b[39mSTEP_OPTIONS)\u001b[38;5;132;01m}\u001b[39;00m\u001b[38;5;124m>\u001b[39m\u001b[38;5;132;01m{\u001b[39;00mmalmo_command\u001b[38;5;132;01m}\u001b[39;00m\u001b[38;5;124m</StepClient\u001b[39m\u001b[38;5;132;01m{\u001b[39;00m\u001b[38;5;28mstr\u001b[39m(\u001b[38;5;28mself\u001b[39m\u001b[38;5;241m.\u001b[39mSTEP_OPTIONS)\u001b[38;5;132;01m}\u001b[39;00m\u001b[38;5;124m >\u001b[39m\u001b[38;5;124m\"\u001b[39m\n\u001b[1;32m    104\u001b[0m \u001b[38;5;66;03m# Send Actions.\u001b[39;00m\n\u001b[0;32m--> 105\u001b[0m \u001b[43minstance\u001b[49m\u001b[38;5;241;43m.\u001b[39;49m\u001b[43mclient_socket_send_message\u001b[49m\u001b[43m(\u001b[49m\u001b[43mstep_message\u001b[49m\u001b[38;5;241;43m.\u001b[39;49m\u001b[43mencode\u001b[49m\u001b[43m(\u001b[49m\u001b[43m)\u001b[49m\u001b[43m)\u001b[49m\n\u001b[1;32m    106\u001b[0m \u001b[38;5;66;03m# Receive the (image) observation.\u001b[39;00m\n\u001b[1;32m    107\u001b[0m obs \u001b[38;5;241m=\u001b[39m instance\u001b[38;5;241m.\u001b[39mclient_socket_recv_message()\n",
      "File \u001b[0;32m~/opt/anaconda3/envs/minedojo/lib/python3.9/site-packages/minedojo/sim/bridge/mc_instance/instance.py:115\u001b[0m, in \u001b[0;36mMinecraftInstance.client_socket_send_message\u001b[0;34m(self, msg)\u001b[0m\n\u001b[1;32m    114\u001b[0m \u001b[38;5;28;01mdef\u001b[39;00m \u001b[38;5;21mclient_socket_send_message\u001b[39m(\u001b[38;5;28mself\u001b[39m, msg):\n\u001b[0;32m--> 115\u001b[0m     \u001b[43mU\u001b[49m\u001b[38;5;241;43m.\u001b[39;49m\u001b[43msend_message\u001b[49m\u001b[43m(\u001b[49m\u001b[38;5;28;43mself\u001b[39;49m\u001b[38;5;241;43m.\u001b[39;49m\u001b[43mclient_socket\u001b[49m\u001b[43m,\u001b[49m\u001b[43m \u001b[49m\u001b[43mmsg\u001b[49m\u001b[43m)\u001b[49m\n",
      "File \u001b[0;32m~/opt/anaconda3/envs/minedojo/lib/python3.9/site-packages/minedojo/sim/bridge/utils/socket_comm.py:6\u001b[0m, in \u001b[0;36msend_message\u001b[0;34m(sock, data)\u001b[0m\n\u001b[1;32m      4\u001b[0m \u001b[38;5;28;01mdef\u001b[39;00m \u001b[38;5;21msend_message\u001b[39m(sock, data):\n\u001b[1;32m      5\u001b[0m     length \u001b[38;5;241m=\u001b[39m \u001b[38;5;28mlen\u001b[39m(data)\n\u001b[0;32m----> 6\u001b[0m     \u001b[43msock\u001b[49m\u001b[38;5;241;43m.\u001b[39;49m\u001b[43msendall\u001b[49m(struct\u001b[38;5;241m.\u001b[39mpack(\u001b[38;5;124m\"\u001b[39m\u001b[38;5;124m!I\u001b[39m\u001b[38;5;124m\"\u001b[39m, length))\n\u001b[1;32m      7\u001b[0m     sock\u001b[38;5;241m.\u001b[39msendall(data)\n",
      "\u001b[0;31mAttributeError\u001b[0m: 'NoneType' object has no attribute 'sendall'"
     ]
    }
   ],
   "source": [
    "listOfObs = []\n",
    "obs = env.reset()\n",
    "done = False\n",
    "counter = 1\n",
    "while not done:\n",
    "    act = env.action_space.no_op()\n",
    "    act[0] = 1    # forward/backward\n",
    "    if counter % 50 == 0:\n",
    "        act[2] = 1    # jump\n",
    "    obs, rwd, done, info = env.step(act)\n",
    "    if counter % 500 == 0:\n",
    "        done = True\n",
    "    listOfObs.append(obs)\n",
    "    counter += 1\n",
    "env.close()"
   ]
  },
  {
   "cell_type": "code",
   "execution_count": 57,
   "id": "5e6c183b",
   "metadata": {
    "scrolled": false
   },
   "outputs": [],
   "source": [
    "for index in range(0, len(listOfObs)):\n",
    "    for key1 in listOfObs[index].keys():\n",
    "        if listOfObs[index][\"damage_source\"][\"damage_amount\"] > 0:\n",
    "            if key1 == \"rgb\":\n",
    "                display(getPILImage(listOfObs[index]['rgb']))\n",
    "            else:\n",
    "                for key2 in listOfObs[index][key1]:\n",
    "                    print(key1, key2, listOfObs[index][key1][key2])\n",
    "    \n",
    "    "
   ]
  },
  {
   "cell_type": "code",
   "execution_count": null,
   "id": "0f23443b",
   "metadata": {},
   "outputs": [],
   "source": []
  }
 ],
 "metadata": {
  "kernelspec": {
   "display_name": "minedojo",
   "language": "python",
   "name": "minedojo"
  },
  "language_info": {
   "codemirror_mode": {
    "name": "ipython",
    "version": 3
   },
   "file_extension": ".py",
   "mimetype": "text/x-python",
   "name": "python",
   "nbconvert_exporter": "python",
   "pygments_lexer": "ipython3",
   "version": "3.9.12"
  }
 },
 "nbformat": 4,
 "nbformat_minor": 5
}
